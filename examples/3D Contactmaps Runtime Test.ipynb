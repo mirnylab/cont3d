{
 "cells": [
  {
   "cell_type": "code",
   "execution_count": 16,
   "metadata": {},
   "outputs": [],
   "source": [
    "from cont3d import contactmaps\n",
    "import glob\n",
    "from polychrom.hdf5_format import HDF5Reporter, list_URIs, load_URI, load_hdf5_file, save_hdf5_file\n",
    "import polychrom\n",
    "import numpy as np\n",
    "import time\n",
    "import matplotlib.pyplot as plt\n",
    "import pandas as pd\n",
    "\n",
    "%matplotlib inline"
   ]
  },
  {
   "cell_type": "code",
   "execution_count": 5,
   "metadata": {},
   "outputs": [],
   "source": [
    "# list of conformation URIs\n",
    "filenames = sum([list_URIs(i) for i in glob.glob(\"/net/wiz/home/magus/data/Simulations/carolynSimulations/enhancerPaperToyExample/newSweep4_5*\")],[])"
   ]
  },
  {
   "cell_type": "code",
   "execution_count": 6,
   "metadata": {},
   "outputs": [],
   "source": [
    "filenames = filenames[:1000]"
   ]
  },
  {
   "cell_type": "code",
   "execution_count": 80,
   "metadata": {},
   "outputs": [],
   "source": [
    "# Making a 500x500x500 contactmap with 50-monomer resolution\n",
    "# using the first 500 * 50 = 25000 monomers of a conformation\n",
    "\n",
    "N = 500\n",
    "resolution = 50"
   ]
  },
  {
   "cell_type": "code",
   "execution_count": 25,
   "metadata": {},
   "outputs": [],
   "source": [
    "runtimes = pd.DataFrame(columns=('threads', 'N', 'resolution', 'runtime'))"
   ]
  },
  {
   "cell_type": "code",
   "execution_count": 9,
   "metadata": {},
   "outputs": [
    {
     "data": {
      "text/html": [
       "<div>\n",
       "<style scoped>\n",
       "    .dataframe tbody tr th:only-of-type {\n",
       "        vertical-align: middle;\n",
       "    }\n",
       "\n",
       "    .dataframe tbody tr th {\n",
       "        vertical-align: top;\n",
       "    }\n",
       "\n",
       "    .dataframe thead th {\n",
       "        text-align: right;\n",
       "    }\n",
       "</style>\n",
       "<table border=\"1\" class=\"dataframe\">\n",
       "  <thead>\n",
       "    <tr style=\"text-align: right;\">\n",
       "      <th></th>\n",
       "      <th>threads</th>\n",
       "      <th>N</th>\n",
       "      <th>resolution</th>\n",
       "      <th>runtime</th>\n",
       "    </tr>\n",
       "  </thead>\n",
       "  <tbody>\n",
       "  </tbody>\n",
       "</table>\n",
       "</div>"
      ],
      "text/plain": [
       "Empty DataFrame\n",
       "Columns: [threads, N, resolution, runtime]\n",
       "Index: []"
      ]
     },
     "execution_count": 9,
     "metadata": {},
     "output_type": "execute_result"
    }
   ],
   "source": [
    "runtimes"
   ]
  },
  {
   "cell_type": "markdown",
   "metadata": {},
   "source": [
    "# Varying number of threads"
   ]
  },
  {
   "cell_type": "code",
   "execution_count": 28,
   "metadata": {},
   "outputs": [
    {
     "name": "stdout",
     "output_type": "stream",
     "text": [
      "1 63.87314534187317\n",
      "2 33.82750749588013\n",
      "4 16.748308420181274\n",
      "8 8.687829732894897\n",
      "16 4.8239617347717285\n"
     ]
    }
   ],
   "source": [
    "for n_threads in [1, 2, 4, 8, 16]:\n",
    "    N = 100\n",
    "    resolution = 50\n",
    "    \n",
    "    def example_contact_finder(data, cutoff=5):\n",
    "        conts = polychrom.polymer_analyses.calculate_contacts(data[:(N*resolution)], cutoff=5)\n",
    "        conts = np.unique(conts // resolution, axis=0)\n",
    "        return conts\n",
    "\n",
    "    t_start = time.time()\n",
    "    hmap = contactmaps.triplet_map(N, filenames, n_threads=n_threads, contact_finder=example_contact_finder)\n",
    "    t_end = time.time()\n",
    "    \n",
    "    print(n_threads, t_end - t_start)\n",
    "\n",
    "    runtimes = runtimes.append({\n",
    "        'threads': n_threads,\n",
    "        'N': N,\n",
    "        'resolution': resolution,\n",
    "        'runtime': t_end - t_start\n",
    "    }, ignore_index=True)\n",
    "            "
   ]
  },
  {
   "cell_type": "code",
   "execution_count": 106,
   "metadata": {
    "scrolled": true
   },
   "outputs": [
    {
     "data": {
      "text/plain": [
       "<matplotlib.legend.Legend at 0x7fc3ab893bd0>"
      ]
     },
     "execution_count": 106,
     "metadata": {},
     "output_type": "execute_result"
    },
    {
     "data": {
      "image/png": "[encoded data removed]",
      "text/plain": [
       "<Figure size 432x288 with 1 Axes>"
      ]
     },
     "metadata": {
      "needs_background": "light"
     },
     "output_type": "display_data"
    }
   ],
   "source": [
    "x=runtimes['threads']\n",
    "y= runtimes['runtime']\n",
    "\n",
    "plt.figure()\n",
    "plt.scatter(x,y)\n",
    "# plt.xscale('log')\n",
    "# plt.yscale('log')\n",
    "plt.ylabel('time (s)')\n",
    "plt.xlabel('number of threads')\n",
    "plt.title('Varying number of threads with N=200 and resolution=50')\n",
    "\n",
    "# trendline\n",
    "z = np.polyfit(np.log(x),np.log(y), 1)\n",
    "p = np.poly1d(z)\n",
    "x_r = np.arange(min(x), max(x)+0.2, 0.2)\n",
    "plt.plot(x_r, np.exp(p(np.log(x_r))),\"r--\", label=f\"y={np.exp(z[1]):.3f}x^{z[0]:.3f}\")\n",
    "plt.legend()"
   ]
  },
  {
   "cell_type": "markdown",
   "metadata": {},
   "source": [
    "# Varying N (size of system)"
   ]
  },
  {
   "cell_type": "code",
   "execution_count": 95,
   "metadata": {
    "collapsed": true
   },
   "outputs": [
    {
     "name": "stdout",
     "output_type": "stream",
     "text": [
      "5 12.071474075317383\n",
      "10 15.074625492095947\n",
      "20 19.384100198745728\n",
      "40 28.799323081970215\n",
      "80 51.53352093696594\n",
      "160 101.818110704422\n",
      "320 186.68736362457275\n",
      "400 240.84726667404175\n",
      "640 395.2064628601074\n"
     ]
    },
    {
     "ename": "MaybeEncodingError",
     "evalue": "Error sending result: '[array([[[   0., 1000.,  272., ...,    0.,    0.,    0.],\n        [   0.,    0.,  272., ...,    0.,    0.,    0.],\n        [   0.,    0.,    0., ...,    0.,    0.,    0.],\n        ...,\n        [   0.,    0.,    0., ...,    0.,    0.,    0.],\n        [   0.,    0.,    0., ...,    0.,    0.,    0.],\n        [   0.,    0.,    0., ...,    0.,    0.,    0.]],\n\n       [[   0.,    0.,    0., ...,    0.,    0.,    0.],\n        [   0.,    0., 1000., ...,    0.,    0.,    0.],\n        [   0.,    0.,    0., ...,    0.,    0.,    0.],\n        ...,\n        [   0.,    0.,    0., ...,    0.,    0.,    0.],\n        [   0.,    0.,    0., ...,    0.,    0.,    0.],\n        [   0.,    0.,    0., ...,    0.,    0.,    0.]],\n\n       [[   0.,    0.,    0., ...,    0.,    0.,    0.],\n        [   0.,    0.,    0., ...,    0.,    0.,    0.],\n        [   0.,    0.,    0., ...,    0.,    0.,    0.],\n        ...,\n        [   0.,    0.,    0., ...,    0.,    0.,    0.],\n        [   0.,    0.,    0., ...,    0.,    0.,    0.],\n        [   0.,    0.,    0., ...,    0.,    0.,    0.]],\n\n       ...,\n\n       [[   0.,    0.,    0., ...,    0.,    0.,    0.],\n        [   0.,    0.,    0., ...,    0.,    0.,    0.],\n        [   0.,    0.,    0., ...,    0.,    0.,    0.],\n        ...,\n        [   0.,    0.,    0., ...,    0.,    0.,    0.],\n        [   0.,    0.,    0., ...,    0.,    0.,    0.],\n        [   0.,    0.,    0., ...,    0.,    0.,    0.]],\n\n       [[   0.,    0.,    0., ...,    0.,    0.,    0.],\n        [   0.,    0.,    0., ...,    0.,    0.,    0.],\n        [   0.,    0.,    0., ...,    0.,    0.,    0.],\n        ...,\n        [   0.,    0.,    0., ...,    0.,    0.,    0.],\n        [   0.,    0.,    0., ...,    0.,    0.,    0.],\n        [   0.,    0.,    0., ...,    0.,    0.,    0.]],\n\n       [[   0.,    0.,    0., ...,    0.,    0.,    0.],\n        [   0.,    0.,    0., ...,    0.,    0.,    0.],\n        [   0.,    0.,    0., ...,    0.,    0.,    0.],\n        ...,\n        [   0.,    0.,    0., ...,    0.,    0.,    0.],\n        [   0.,    0.,    0., ...,    0.,    0.,    0.],\n        [   0.,    0.,    0., ...,    0.,    0.,    0.]]])]'. Reason: 'error(\"'i' format requires -2147483648 <= number <= 2147483647\")'",
     "output_type": "error",
     "traceback": [
      "\u001b[0;31m---------------------------------------------------------------------------\u001b[0m",
      "\u001b[0;31mMaybeEncodingError\u001b[0m                        Traceback (most recent call last)",
      "\u001b[0;32m<ipython-input-95-843638fd7127>\u001b[0m in \u001b[0;36m<module>\u001b[0;34m\u001b[0m\n\u001b[1;32m     10\u001b[0m \u001b[0;34m\u001b[0m\u001b[0m\n\u001b[1;32m     11\u001b[0m     \u001b[0mt_start\u001b[0m \u001b[0;34m=\u001b[0m \u001b[0mtime\u001b[0m\u001b[0;34m.\u001b[0m\u001b[0mtime\u001b[0m\u001b[0;34m(\u001b[0m\u001b[0;34m)\u001b[0m\u001b[0;34m\u001b[0m\u001b[0;34m\u001b[0m\u001b[0m\n\u001b[0;32m---> 12\u001b[0;31m     \u001b[0mhmap\u001b[0m \u001b[0;34m=\u001b[0m \u001b[0mcontactmaps\u001b[0m\u001b[0;34m.\u001b[0m\u001b[0mtriplet_map\u001b[0m\u001b[0;34m(\u001b[0m\u001b[0mN\u001b[0m\u001b[0;34m,\u001b[0m \u001b[0mfilenames\u001b[0m\u001b[0;34m,\u001b[0m \u001b[0mn_threads\u001b[0m\u001b[0;34m=\u001b[0m\u001b[0mn_threads\u001b[0m\u001b[0;34m,\u001b[0m \u001b[0mcontact_finder\u001b[0m\u001b[0;34m=\u001b[0m\u001b[0mexample_contact_finder\u001b[0m\u001b[0;34m)\u001b[0m\u001b[0;34m\u001b[0m\u001b[0;34m\u001b[0m\u001b[0m\n\u001b[0m\u001b[1;32m     13\u001b[0m     \u001b[0mt_end\u001b[0m \u001b[0;34m=\u001b[0m \u001b[0mtime\u001b[0m\u001b[0;34m.\u001b[0m\u001b[0mtime\u001b[0m\u001b[0;34m(\u001b[0m\u001b[0;34m)\u001b[0m\u001b[0;34m\u001b[0m\u001b[0;34m\u001b[0m\u001b[0m\n\u001b[1;32m     14\u001b[0m \u001b[0;34m\u001b[0m\u001b[0m\n",
      "\u001b[0;32m~/notebooks/cont3d/cont3d/contactmaps.py\u001b[0m in \u001b[0;36mtriplet_map\u001b[0;34m(N, URIs, n_threads, contact_finder)\u001b[0m\n\u001b[1;32m    241\u001b[0m \u001b[0;34m\u001b[0m\u001b[0m\n\u001b[1;32m    242\u001b[0m     \u001b[0;32mwith\u001b[0m \u001b[0mPool\u001b[0m\u001b[0;34m(\u001b[0m\u001b[0mn_threads\u001b[0m\u001b[0;34m)\u001b[0m \u001b[0;32mas\u001b[0m \u001b[0mp\u001b[0m\u001b[0;34m:\u001b[0m\u001b[0;34m\u001b[0m\u001b[0;34m\u001b[0m\u001b[0m\n\u001b[0;32m--> 243\u001b[0;31m         \u001b[0mmapped_arrays\u001b[0m \u001b[0;34m=\u001b[0m \u001b[0mp\u001b[0m\u001b[0;34m.\u001b[0m\u001b[0mmap\u001b[0m\u001b[0;34m(\u001b[0m\u001b[0mpartial\u001b[0m\u001b[0;34m(\u001b[0m\u001b[0mtriplets_from_bucket\u001b[0m\u001b[0;34m,\u001b[0m \u001b[0mN\u001b[0m\u001b[0;34m,\u001b[0m \u001b[0mcontact_finder\u001b[0m\u001b[0;34m=\u001b[0m\u001b[0mcontact_finder\u001b[0m\u001b[0;34m)\u001b[0m\u001b[0;34m,\u001b[0m \u001b[0mURI_buckets\u001b[0m\u001b[0;34m)\u001b[0m\u001b[0;34m\u001b[0m\u001b[0;34m\u001b[0m\u001b[0m\n\u001b[0m\u001b[1;32m    244\u001b[0m \u001b[0;34m\u001b[0m\u001b[0m\n\u001b[1;32m    245\u001b[0m     \u001b[0;32mreturn\u001b[0m \u001b[0mnp\u001b[0m\u001b[0;34m.\u001b[0m\u001b[0msum\u001b[0m\u001b[0;34m(\u001b[0m\u001b[0mmapped_arrays\u001b[0m\u001b[0;34m,\u001b[0m \u001b[0maxis\u001b[0m\u001b[0;34m=\u001b[0m\u001b[0;36m0\u001b[0m\u001b[0;34m)\u001b[0m\u001b[0;34m\u001b[0m\u001b[0;34m\u001b[0m\u001b[0m\n",
      "\u001b[0;32m~/anaconda3/lib/python3.7/multiprocessing/pool.py\u001b[0m in \u001b[0;36mmap\u001b[0;34m(self, func, iterable, chunksize)\u001b[0m\n\u001b[1;32m    266\u001b[0m         \u001b[0;32min\u001b[0m \u001b[0ma\u001b[0m \u001b[0mlist\u001b[0m \u001b[0mthat\u001b[0m \u001b[0;32mis\u001b[0m \u001b[0mreturned\u001b[0m\u001b[0;34m.\u001b[0m\u001b[0;34m\u001b[0m\u001b[0;34m\u001b[0m\u001b[0m\n\u001b[1;32m    267\u001b[0m         '''\n\u001b[0;32m--> 268\u001b[0;31m         \u001b[0;32mreturn\u001b[0m \u001b[0mself\u001b[0m\u001b[0;34m.\u001b[0m\u001b[0m_map_async\u001b[0m\u001b[0;34m(\u001b[0m\u001b[0mfunc\u001b[0m\u001b[0;34m,\u001b[0m \u001b[0miterable\u001b[0m\u001b[0;34m,\u001b[0m \u001b[0mmapstar\u001b[0m\u001b[0;34m,\u001b[0m \u001b[0mchunksize\u001b[0m\u001b[0;34m)\u001b[0m\u001b[0;34m.\u001b[0m\u001b[0mget\u001b[0m\u001b[0;34m(\u001b[0m\u001b[0;34m)\u001b[0m\u001b[0;34m\u001b[0m\u001b[0;34m\u001b[0m\u001b[0m\n\u001b[0m\u001b[1;32m    269\u001b[0m \u001b[0;34m\u001b[0m\u001b[0m\n\u001b[1;32m    270\u001b[0m     \u001b[0;32mdef\u001b[0m \u001b[0mstarmap\u001b[0m\u001b[0;34m(\u001b[0m\u001b[0mself\u001b[0m\u001b[0;34m,\u001b[0m \u001b[0mfunc\u001b[0m\u001b[0;34m,\u001b[0m \u001b[0miterable\u001b[0m\u001b[0;34m,\u001b[0m \u001b[0mchunksize\u001b[0m\u001b[0;34m=\u001b[0m\u001b[0;32mNone\u001b[0m\u001b[0;34m)\u001b[0m\u001b[0;34m:\u001b[0m\u001b[0;34m\u001b[0m\u001b[0;34m\u001b[0m\u001b[0m\n",
      "\u001b[0;32m~/anaconda3/lib/python3.7/multiprocessing/pool.py\u001b[0m in \u001b[0;36mget\u001b[0;34m(self, timeout)\u001b[0m\n\u001b[1;32m    655\u001b[0m             \u001b[0;32mreturn\u001b[0m \u001b[0mself\u001b[0m\u001b[0;34m.\u001b[0m\u001b[0m_value\u001b[0m\u001b[0;34m\u001b[0m\u001b[0;34m\u001b[0m\u001b[0m\n\u001b[1;32m    656\u001b[0m         \u001b[0;32melse\u001b[0m\u001b[0;34m:\u001b[0m\u001b[0;34m\u001b[0m\u001b[0;34m\u001b[0m\u001b[0m\n\u001b[0;32m--> 657\u001b[0;31m             \u001b[0;32mraise\u001b[0m \u001b[0mself\u001b[0m\u001b[0;34m.\u001b[0m\u001b[0m_value\u001b[0m\u001b[0;34m\u001b[0m\u001b[0;34m\u001b[0m\u001b[0m\n\u001b[0m\u001b[1;32m    658\u001b[0m \u001b[0;34m\u001b[0m\u001b[0m\n\u001b[1;32m    659\u001b[0m     \u001b[0;32mdef\u001b[0m \u001b[0m_set\u001b[0m\u001b[0;34m(\u001b[0m\u001b[0mself\u001b[0m\u001b[0;34m,\u001b[0m \u001b[0mi\u001b[0m\u001b[0;34m,\u001b[0m \u001b[0mobj\u001b[0m\u001b[0;34m)\u001b[0m\u001b[0;34m:\u001b[0m\u001b[0;34m\u001b[0m\u001b[0;34m\u001b[0m\u001b[0m\n",
      "\u001b[0;31mMaybeEncodingError\u001b[0m: Error sending result: '[array([[[   0., 1000.,  272., ...,    0.,    0.,    0.],\n        [   0.,    0.,  272., ...,    0.,    0.,    0.],\n        [   0.,    0.,    0., ...,    0.,    0.,    0.],\n        ...,\n        [   0.,    0.,    0., ...,    0.,    0.,    0.],\n        [   0.,    0.,    0., ...,    0.,    0.,    0.],\n        [   0.,    0.,    0., ...,    0.,    0.,    0.]],\n\n       [[   0.,    0.,    0., ...,    0.,    0.,    0.],\n        [   0.,    0., 1000., ...,    0.,    0.,    0.],\n        [   0.,    0.,    0., ...,    0.,    0.,    0.],\n        ...,\n        [   0.,    0.,    0., ...,    0.,    0.,    0.],\n        [   0.,    0.,    0., ...,    0.,    0.,    0.],\n        [   0.,    0.,    0., ...,    0.,    0.,    0.]],\n\n       [[   0.,    0.,    0., ...,    0.,    0.,    0.],\n        [   0.,    0.,    0., ...,    0.,    0.,    0.],\n        [   0.,    0.,    0., ...,    0.,    0.,    0.],\n        ...,\n        [   0.,    0.,    0., ...,    0.,    0.,    0.],\n        [   0.,    0.,    0., ...,    0.,    0.,    0.],\n        [   0.,    0.,    0., ...,    0.,    0.,    0.]],\n\n       ...,\n\n       [[   0.,    0.,    0., ...,    0.,    0.,    0.],\n        [   0.,    0.,    0., ...,    0.,    0.,    0.],\n        [   0.,    0.,    0., ...,    0.,    0.,    0.],\n        ...,\n        [   0.,    0.,    0., ...,    0.,    0.,    0.],\n        [   0.,    0.,    0., ...,    0.,    0.,    0.],\n        [   0.,    0.,    0., ...,    0.,    0.,    0.]],\n\n       [[   0.,    0.,    0., ...,    0.,    0.,    0.],\n        [   0.,    0.,    0., ...,    0.,    0.,    0.],\n        [   0.,    0.,    0., ...,    0.,    0.,    0.],\n        ...,\n        [   0.,    0.,    0., ...,    0.,    0.,    0.],\n        [   0.,    0.,    0., ...,    0.,    0.,    0.],\n        [   0.,    0.,    0., ...,    0.,    0.,    0.]],\n\n       [[   0.,    0.,    0., ...,    0.,    0.,    0.],\n        [   0.,    0.,    0., ...,    0.,    0.,    0.],\n        [   0.,    0.,    0., ...,    0.,    0.,    0.],\n        ...,\n        [   0.,    0.,    0., ...,    0.,    0.,    0.],\n        [   0.,    0.,    0., ...,    0.,    0.,    0.],\n        [   0.,    0.,    0., ...,    0.,    0.,    0.]]])]'. Reason: 'error(\"'i' format requires -2147483648 <= number <= 2147483647\")'"
     ]
    }
   ],
   "source": [
    "runtimes_2 = pd.DataFrame(columns=('threads', 'N', 'resolution', 'runtime'))\n",
    "n_threads = 1\n",
    "resolution = 50\n",
    "\n",
    "for N in [5, 10, 20, 40, 80, 160, 320, 400, 640, 800]:\n",
    "    def example_contact_finder(data, cutoff=5):\n",
    "        conts = polychrom.polymer_analyses.calculate_contacts(data[:(N*resolution)], cutoff=5)\n",
    "        conts = np.unique(conts // resolution, axis=0)\n",
    "        return conts\n",
    "\n",
    "    t_start = time.time()\n",
    "    hmap = contactmaps.triplet_map(N, filenames, n_threads=n_threads, contact_finder=example_contact_finder)\n",
    "    t_end = time.time()\n",
    "    \n",
    "    print(N, t_end - t_start)\n",
    "\n",
    "    runtimes_2 = runtimes_2.append({\n",
    "        'threads': n_threads,\n",
    "        'N': N,\n",
    "        'resolution': resolution,\n",
    "        'runtime': t_end - t_start\n",
    "    }, ignore_index=True)\n",
    "            "
   ]
  },
  {
   "cell_type": "code",
   "execution_count": 115,
   "metadata": {},
   "outputs": [
    {
     "data": {
      "text/plain": [
       "<matplotlib.legend.Legend at 0x7fc3b82c8d90>"
      ]
     },
     "execution_count": 115,
     "metadata": {},
     "output_type": "execute_result"
    },
    {
     "data": {
      "image/png": "[encoded data removed]",
      "text/plain": [
       "<Figure size 432x288 with 1 Axes>"
      ]
     },
     "metadata": {
      "needs_background": "light"
     },
     "output_type": "display_data"
    }
   ],
   "source": [
    "x=runtimes_2['N']\n",
    "y= runtimes_2['runtime']\n",
    "\n",
    "plt.figure()\n",
    "plt.scatter(x,y)\n",
    "# plt.xscale('log')\n",
    "# plt.yscale('log')\n",
    "plt.ylabel('time (s)')\n",
    "plt.xlabel('N')\n",
    "plt.title('Varying N with 1 thread and resolution=50')\n",
    "\n",
    "# trendline\n",
    "z = np.polyfit(x, y, 1)\n",
    "p = np.poly1d(z)\n",
    "x_r = np.arange(min(x), max(x)+0.2, 0.2)\n",
    "plt.plot(x_r, p(x_r),\"r--\", label=f\"y={z[1]:.3f}+{z[0]:.3f}x\")\n",
    "plt.legend()"
   ]
  },
  {
   "cell_type": "markdown",
   "metadata": {},
   "source": [
    "# Varying resolution"
   ]
  },
  {
   "cell_type": "code",
   "execution_count": 117,
   "metadata": {},
   "outputs": [
    {
     "name": "stdout",
     "output_type": "stream",
     "text": [
      "2 12.79926347732544\n",
      "5 15.598424434661865\n",
      "10 19.603994369506836\n",
      "20 28.81319284439087\n",
      "40 50.560911417007446\n",
      "80 104.66836833953857\n",
      "160 192.90374445915222\n",
      "320 398.5614631175995\n",
      "640 393.2491617202759\n"
     ]
    }
   ],
   "source": [
    "runtimes_3 = pd.DataFrame(columns=('threads', 'N', 'resolution', 'runtime'))\n",
    "n_threads = 1\n",
    "N = 100\n",
    "\n",
    "for resolution in [2, 5, 10, 20, 40, 80, 160, 320, 640]:\n",
    "    def example_contact_finder(data, cutoff=5):\n",
    "        conts = polychrom.polymer_analyses.calculate_contacts(data[:(N*resolution)], cutoff=5)\n",
    "        conts = np.unique(conts // resolution, axis=0)\n",
    "        return conts\n",
    "\n",
    "    t_start = time.time()\n",
    "    hmap = contactmaps.triplet_map(N, filenames, n_threads=n_threads, contact_finder=example_contact_finder)\n",
    "    t_end = time.time()\n",
    "    \n",
    "    print(resolution, t_end - t_start)\n",
    "\n",
    "    runtimes_3 = runtimes_3.append({\n",
    "        'threads': n_threads,\n",
    "        'N': N,\n",
    "        'resolution': resolution,\n",
    "        'runtime': t_end - t_start\n",
    "    }, ignore_index=True)\n",
    "            "
   ]
  },
  {
   "cell_type": "code",
   "execution_count": 121,
   "metadata": {},
   "outputs": [
    {
     "data": {
      "text/plain": [
       "Text(0.5, 1.0, 'Varying N with 1 thread and resolution=50')"
      ]
     },
     "execution_count": 121,
     "metadata": {},
     "output_type": "execute_result"
    },
    {
     "data": {
      "image/png": "[encoded data removed]",
      "text/plain": [
       "<Figure size 432x288 with 1 Axes>"
      ]
     },
     "metadata": {
      "needs_background": "light"
     },
     "output_type": "display_data"
    }
   ],
   "source": [
    "x=runtimes_3['resolution']\n",
    "y= runtimes_3['runtime']\n",
    "\n",
    "plt.figure()\n",
    "plt.scatter(x,y)\n",
    "# plt.xscale('log')\n",
    "# plt.yscale('log')\n",
    "plt.ylabel('time (s)')\n",
    "plt.xlabel('N')\n",
    "plt.title('Varying resolution with 1 thread and N=100')\n",
    "\n",
    "# # trendline\n",
    "# z = np.polyfit(x, y, 1)\n",
    "# p = np.poly1d(z)\n",
    "# x_r = np.arange(min(x), max(x)+0.2, 0.2)\n",
    "# plt.plot(x_r, p(x_r),\"r--\", label=f\"y={z[1]:.3f}+{z[0]:.3f}x\")\n",
    "# plt.legend()"
   ]
  },
  {
   "cell_type": "markdown",
   "metadata": {},
   "source": [
    "# Varying cutoff"
   ]
  },
  {
   "cell_type": "code",
   "execution_count": 125,
   "metadata": {},
   "outputs": [],
   "source": [
    "from importlib import reload"
   ]
  },
  {
   "cell_type": "code",
   "execution_count": 132,
   "metadata": {},
   "outputs": [
    {
     "data": {
      "text/plain": [
       "<module 'cont3d.contactmaps' from '/home/neil/notebooks/cont3d/cont3d/contactmaps.py'>"
      ]
     },
     "execution_count": 132,
     "metadata": {},
     "output_type": "execute_result"
    }
   ],
   "source": [
    "reload(contactmaps)"
   ]
  },
  {
   "cell_type": "code",
   "execution_count": 140,
   "metadata": {},
   "outputs": [
    {
     "name": "stdout",
     "output_type": "stream",
     "text": [
      "1 12.288677453994751\n",
      "2 15.596540212631226\n",
      "3 18.612714529037476\n",
      "4 22.611475229263306\n",
      "5 29.118147373199463\n",
      "6 36.53285264968872\n",
      "7 46.54573631286621\n",
      "8 59.36210870742798\n",
      "12 131.19700241088867\n",
      "16 228.8588457107544\n",
      "24 516.885735988617\n"
     ]
    }
   ],
   "source": [
    "runtimes_4 = pd.DataFrame(columns=('cutoff', 'threads', 'N', 'resolution', 'runtime'))\n",
    "n_threads = 1\n",
    "N = 100\n",
    "resolution = 20\n",
    "\n",
    "for cutoff in [1, 2, 3, 4, 5, 6, 7, 8, 12, 16, 24]:\n",
    "    def example_contact_finder(data, cutoff=5):\n",
    "        conts = polychrom.polymer_analyses.calculate_contacts(data[:(N*resolution)], cutoff=cutoff)\n",
    "        conts = np.unique(conts // resolution, axis=0)\n",
    "        return conts\n",
    "\n",
    "    t_start = time.time()\n",
    "    hmap = contactmaps.triplet_map(N, filenames, n_threads=n_threads, contact_finder=example_contact_finder, cutoff=cutoff)\n",
    "    t_end = time.time()\n",
    "    \n",
    "    print(cutoff, t_end - t_start)\n",
    "\n",
    "    runtimes_4 = runtimes_4.append({\n",
    "        'cutoff': cutoff,\n",
    "        'threads': n_threads,\n",
    "        'N': N,\n",
    "        'resolution': resolution,\n",
    "        'runtime': t_end - t_start\n",
    "    }, ignore_index=True)\n",
    "            "
   ]
  },
  {
   "cell_type": "code",
   "execution_count": 148,
   "metadata": {},
   "outputs": [
    {
     "data": {
      "text/plain": [
       "<matplotlib.legend.Legend at 0x7fc3aafb7910>"
      ]
     },
     "execution_count": 148,
     "metadata": {},
     "output_type": "execute_result"
    },
    {
     "data": {
      "image/png": "[encoded data removed]",
      "text/plain": [
       "<Figure size 432x288 with 1 Axes>"
      ]
     },
     "metadata": {
      "needs_background": "light"
     },
     "output_type": "display_data"
    }
   ],
   "source": [
    "x=runtimes_4['cutoff']\n",
    "y= runtimes_4['runtime']\n",
    "\n",
    "plt.figure()\n",
    "plt.scatter(x,y)\n",
    "# plt.xscale('log')\n",
    "# plt.yscale('log')\n",
    "plt.ylabel('time (s)')\n",
    "plt.xlabel('cutoff')\n",
    "plt.title('Varying contact radius with 1 thread and N=100')\n",
    "\n",
    "# trendline\n",
    "z = np.polyfit(np.log(x)[4:],np.log(y)[4:], 1)\n",
    "p = np.poly1d(z)\n",
    "x_r = np.arange(min(x), max(x)+0.2, 0.2)\n",
    "plt.plot(x_r, np.exp(p(np.log(x_r))),\"r--\", label=f\"y={np.exp(z[1]):.3f}x^{z[0]:.3f}\")\n",
    "plt.legend()"
   ]
  },
  {
   "cell_type": "code",
   "execution_count": null,
   "metadata": {},
   "outputs": [],
   "source": []
  }
 ],
 "metadata": {
  "kernelspec": {
   "display_name": "Python 3",
   "language": "python",
   "name": "python3"
  },
  "language_info": {
   "codemirror_mode": {
    "name": "ipython",
    "version": 3
   },
   "file_extension": ".py",
   "mimetype": "text/x-python",
   "name": "python",
   "nbconvert_exporter": "python",
   "pygments_lexer": "ipython3",
   "version": "3.7.6"
  }
 },
 "nbformat": 4,
 "nbformat_minor": 4
}
